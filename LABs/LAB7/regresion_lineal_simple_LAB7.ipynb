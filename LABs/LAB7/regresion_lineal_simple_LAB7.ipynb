{
  "nbformat": 4,
  "nbformat_minor": 0,
  "metadata": {
    "colab": {
      "name": "regresion_lineal_simple_LAB7.ipynb",
      "provenance": [],
      "collapsed_sections": []
    },
    "kernelspec": {
      "name": "python3",
      "display_name": "Python 3"
    },
    "language_info": {
      "name": "python"
    }
  },
  "cells": [
    {
      "cell_type": "code",
      "metadata": {
        "id": "mIM3MHD6oWwH"
      },
      "source": [
        "import os\n",
        "import numpy as np\n",
        "from matplotlib import pyplot"
      ],
      "execution_count": 1,
      "outputs": []
    },
    {
      "cell_type": "code",
      "source": [
        "import numpy\n",
        "filename = 'Stores.csv'\n",
        "raw_data = open(filename)\n",
        "data = numpy.loadtxt(raw_data, delimiter=\",\",skiprows=1)\n",
        "print(data.shape)\n",
        "print(data)\n",
        "X, y = data[:, 1], data[:,2]\n",
        "m = y.size"
      ],
      "metadata": {
        "id": "5361V0WomRtP",
        "colab": {
          "base_uri": "https://localhost:8080/"
        },
        "outputId": "bc189e73-1399-4abb-cbe7-abfb9b9ad06b"
      },
      "execution_count": 35,
      "outputs": [
        {
          "output_type": "stream",
          "name": "stdout",
          "text": [
            "(896, 5)\n",
            "[[1.000e+00 1.659e+03 1.961e+03 5.300e+02 6.649e+04]\n",
            " [2.000e+00 1.461e+03 1.752e+03 2.100e+02 3.982e+04]\n",
            " [3.000e+00 1.340e+03 1.609e+03 7.200e+02 5.401e+04]\n",
            " ...\n",
            " [8.940e+02 1.200e+03 1.436e+03 1.060e+03 7.644e+04]\n",
            " [8.950e+02 1.299e+03 1.560e+03 7.700e+02 9.661e+04]\n",
            " [8.960e+02 1.174e+03 1.429e+03 1.110e+03 5.434e+04]]\n"
          ]
        }
      ]
    },
    {
      "cell_type": "code",
      "source": [
        "X"
      ],
      "metadata": {
        "colab": {
          "base_uri": "https://localhost:8080/"
        },
        "id": "gKAgtTqLDi-M",
        "outputId": "773eba67-e562-47d5-f862-625390588354"
      },
      "execution_count": 36,
      "outputs": [
        {
          "output_type": "execute_result",
          "data": {
            "text/plain": [
              "array([1659., 1461., 1340., 1451., 1770., 1442., 1542., 1261., 1090.,\n",
              "       1030., 1187., 1751., 1746., 1615., 1469., 1644., 1578., 1703.,\n",
              "       1438., 1940., 1421., 1458., 1719., 1449., 1234., 1732., 1475.,\n",
              "       1390., 1642., 1715., 1439., 1250., 1331., 1784., 1375., 1871.,\n",
              "       1442., 1174., 1839., 1270., 1435.,  965., 1665., 1780., 1009.,\n",
              "       1227., 1769., 1660., 1472., 1408., 1514., 1565., 1074., 1864.,\n",
              "       1570., 1417., 1734., 1470., 1761., 1756., 1704., 2011., 1472.,\n",
              "       1310., 1544., 1707., 1881., 1416., 1631., 1318., 1692., 1152.,\n",
              "        891., 1468., 1539., 1635., 1267., 1250., 1720., 1462., 1431.,\n",
              "       1539., 1441., 1572., 1287., 1468., 1931., 1252., 1238., 1479.,\n",
              "       1590., 2169., 1838., 1385., 1921., 1975., 1853., 1816., 1785.,\n",
              "       1579., 1096., 1919., 1262., 1374., 1309., 1207., 1692., 1929.,\n",
              "       1573., 1415., 1162., 1485., 1897., 1607., 1909., 1274., 1157.,\n",
              "       1712., 1500., 1682., 1441., 1525., 1408., 1947., 1164., 1787.,\n",
              "       1871., 1718., 1365., 1368., 1342., 1076., 1396., 1713., 1370.,\n",
              "       1667., 1638., 1581., 1795., 1179., 1978., 1688., 1214., 1504.,\n",
              "       1498., 1462., 1442., 1250., 1229., 1936., 1369., 1662., 1548.,\n",
              "       1649., 1393., 1450., 1613., 1408.,  775., 1275., 1740., 1372.,\n",
              "       1414., 2044., 1823.,  955., 1465., 1331., 1232., 1481., 1343.,\n",
              "       1539., 1007., 1762., 1527., 1356., 1536., 1605., 1704., 1626.,\n",
              "       1612., 1174., 1923., 1702., 1398., 1437., 1524., 1660., 1302.,\n",
              "       1666., 1391., 1778., 1462., 1751., 1652., 1841., 1496., 1504.,\n",
              "       1524., 1148., 1468., 1310., 1321.,  992., 1540., 1807., 1526.,\n",
              "       1406., 1703., 1575., 1309., 1488., 1658., 1863., 1458., 1604.,\n",
              "       1575., 1525., 1451., 1390., 1442., 1620., 1251., 1318., 1647.,\n",
              "       1829., 1852., 1699., 1325., 1350., 1347., 1397., 1245., 1366.,\n",
              "       1378., 1767., 1184., 1257., 1863., 1881., 1329., 1539., 1557.,\n",
              "       2007., 1185., 1657., 1294., 1296., 1733., 1641., 1373., 1550.,\n",
              "       1583., 1428., 1604., 1439., 1648., 1025., 2001., 1145., 1174.,\n",
              "        913., 1199., 1875., 1153., 1240., 1381., 1701., 1206., 1476.,\n",
              "       1189., 1837., 1319., 1617., 1631., 1517., 1764., 1572., 1855.,\n",
              "       1327., 1270., 1734., 1533., 1390., 1856., 1000., 1313., 1494.,\n",
              "       1386., 1979., 1057.,  902., 1347., 1314., 1513., 1305., 1180.,\n",
              "       1142., 1471., 1075., 1578., 1585., 1391., 1577., 1092., 1375.,\n",
              "       1523., 1373., 1550., 1614., 1566., 2019., 1494., 1659., 1766.,\n",
              "       1293., 1375., 1236., 1332., 1513., 1208., 1190., 1448., 1771.,\n",
              "       1365., 1510., 1458., 1808., 1615., 1640., 1060., 1633., 1222.,\n",
              "       1619., 1624., 1887., 1320., 1450., 1455.,  966., 1922., 1678.,\n",
              "       1638., 1145., 2004., 1954., 1577., 1766., 1362., 1886., 1291.,\n",
              "       1584., 1397., 1445., 1433., 1269., 1798., 1514., 1015., 1495.,\n",
              "       1759., 1219., 1571., 1404., 1124., 1514., 1207., 1484., 1398.,\n",
              "       1769., 1111., 1078., 1876., 1909., 1940., 1391., 1496., 1412.,\n",
              "       1121., 1691., 1599., 1208., 1454., 1555., 1554., 1491., 1415.,\n",
              "       1487., 1339., 1320., 1509., 1406., 1264., 1905., 1209., 1546.,\n",
              "       1689., 1153., 2063., 1848., 1718., 1480., 1439., 1576., 1948.,\n",
              "       1613.,  896., 1625., 1303., 1340., 1410., 1432., 1891., 1322.,\n",
              "       1378., 1462., 1440., 1421., 1280., 1431., 1161., 1175., 1395.,\n",
              "       1443., 1247., 1788., 1138., 1709., 1777., 1612., 1618., 1311.,\n",
              "       1365., 1249., 1373., 1536., 1744., 1513., 1297., 1908., 1721.,\n",
              "       1243., 1472., 1307., 1628., 1556., 1179., 1768., 1378., 1685.,\n",
              "       1474., 1794., 1086., 1808., 1501., 1353., 1455., 1165., 1332.,\n",
              "       1396., 1513., 1618., 1845., 1172., 1436., 1738., 2229., 1490.,\n",
              "       1060., 2015., 1611., 1187., 1430., 1543., 1836., 1463., 1213.,\n",
              "       1244., 1745.,  933., 1764., 1675., 1688., 1842., 1316., 1440.,\n",
              "       1760., 1323., 1230., 1540., 1167., 1429., 1491., 1313., 1609.,\n",
              "       1109., 1207.,  902., 1191., 1335., 1382., 1588., 1918., 1484.,\n",
              "       1334., 1556., 1784., 1244., 1496., 1719., 1678., 1247., 1191.,\n",
              "       1832., 1271., 1735., 1627., 1351., 1520., 1490., 1777., 1688.,\n",
              "       1537., 1622., 1148., 1001., 1857., 1552., 1700., 1554., 1482.,\n",
              "       1275., 1642., 1381., 1381., 1057., 1192., 1601., 1622., 1607.,\n",
              "       2214., 1633., 1546., 1475., 1270., 1185., 1614., 1141., 1244.,\n",
              "        869., 2049., 1883., 1526., 1165., 1832., 1723.,  932., 1137.,\n",
              "       1231., 1237., 1371., 1767., 1748., 1212., 1466., 1152., 1439.,\n",
              "       2026., 1772., 1511., 1199., 1834., 1143., 1494., 1770., 1455.,\n",
              "       1141., 1586., 1701., 1860., 1167., 1424., 1710., 1408., 1517.,\n",
              "       1227., 1609., 1553., 1814., 1240., 1206., 1847., 1009., 1624.,\n",
              "       1612., 1498.,  946., 1563., 1664., 1619., 1433., 1241., 1429.,\n",
              "       1241., 1078., 1690., 1289., 1581., 1608., 1344., 1513., 1529.,\n",
              "       1677., 1015., 1438., 1426., 1412., 1622., 1503., 1501., 1971.,\n",
              "       1383., 1371., 1508., 1057., 1411., 1466., 1545., 2044., 1887.,\n",
              "       1505., 1422., 1564., 1510., 1568., 1933., 1501., 1593., 1812.,\n",
              "       1580., 1440., 1100., 1534., 1299., 1767., 1368., 1393., 1327.,\n",
              "       1514., 1989., 1334., 1533., 1809., 1607., 1165., 1193., 1709.,\n",
              "       1525., 1348., 1132., 1667., 1427., 1211., 1717., 1766., 1086.,\n",
              "       1410., 1476., 1068., 1485., 1461., 1685., 1624., 1658., 1427.,\n",
              "       1755., 1211., 1591., 1797., 1519., 1637., 1451., 1203., 1884.,\n",
              "       1540., 1121., 1307., 1475., 1160., 1078., 1191., 1317., 1548.,\n",
              "       1560., 1297., 1645., 1225., 1421., 1655., 1615., 1872., 1317.,\n",
              "       1434., 1791.,  932., 1609., 1495., 1769., 1693., 1247., 1502.,\n",
              "       1360., 1542., 1631., 1246., 1990.,  967., 1582., 1430., 1827.,\n",
              "       1118., 1766., 1799., 1167., 1493., 1445., 1033., 1440., 1487.,\n",
              "       1854., 1748., 1937., 1641., 1659., 1743., 1449., 1098., 1121.,\n",
              "       1526., 1358., 1336., 1502., 1534., 1418.,  854., 1450., 1474.,\n",
              "       1524., 1361., 1398., 1085., 1660., 1648., 1453., 1323., 1385.,\n",
              "       1250., 1389., 1486., 1655., 1645., 1464., 1197., 1878., 1150.,\n",
              "       1562., 1596., 1119., 1116., 1934., 1299., 1417., 1235., 1497.,\n",
              "       1430., 1537., 1444., 1477., 1041., 1226., 1489., 1549., 1073.,\n",
              "       1473., 2013., 1975., 1561., 1427., 1441., 1275., 1574., 1511.,\n",
              "       1428., 1388., 1057., 1440., 1349., 1536., 2019., 1236., 1436.,\n",
              "       1862., 1200., 1360., 1722., 1577., 1850., 1447., 1496., 1679.,\n",
              "        994., 1354., 1597., 1873., 1218., 1458., 1546., 1608., 1822.,\n",
              "       1716., 1072., 1330., 1588., 1425., 1778., 1363., 1609., 1671.,\n",
              "       1379., 1218., 1724.,  986., 1330., 1437., 1327., 1651., 1211.,\n",
              "       1916., 1638., 1172., 1350., 1528., 1305., 1463., 1409., 1419.,\n",
              "       1535., 1474.,  919., 2067., 1977., 1293., 1477., 1582., 1481.,\n",
              "       1214., 1206., 1653., 1152., 1458., 1249., 1939., 1591., 1180.,\n",
              "       1846.,  780., 1565., 1648., 1775., 1439., 1487., 1800., 1690.,\n",
              "       1209., 1859., 1691., 1259., 1771., 1205., 1792., 1263., 1344.,\n",
              "       1819., 1357., 1396., 1118., 1655., 1156., 1451., 1539., 1549.,\n",
              "       1582., 1387., 1200., 1299., 1174.])"
            ]
          },
          "metadata": {},
          "execution_count": 36
        }
      ]
    },
    {
      "cell_type": "code",
      "metadata": {
        "id": "8fqXopw1owNd"
      },
      "source": [
        "# Leer datos\n",
        "filename = 'Stores.csv'\n",
        "raw_data = open(filename)\n",
        "data = numpy.loadtxt(raw_data, delimiter=\",\",skiprows=1)\n",
        "#data = np.loadcsv('Stores.csv', delimiter=',')\n",
        "X, y = data[:, 3], data[:,4]\n",
        "m = y.size"
      ],
      "execution_count": 44,
      "outputs": []
    },
    {
      "cell_type": "code",
      "source": [
        "print(data)\n",
        "print(X)\n",
        "print(y)"
      ],
      "metadata": {
        "colab": {
          "base_uri": "https://localhost:8080/"
        },
        "id": "B9lKpNqDOHoA",
        "outputId": "282ebda5-a174-4f4b-8716-c4f934b83a13"
      },
      "execution_count": 49,
      "outputs": [
        {
          "output_type": "stream",
          "name": "stdout",
          "text": [
            "[[1.000e+00 1.659e+03 1.961e+03 5.300e+02 6.649e+04]\n",
            " [2.000e+00 1.461e+03 1.752e+03 2.100e+02 3.982e+04]\n",
            " [3.000e+00 1.340e+03 1.609e+03 7.200e+02 5.401e+04]\n",
            " ...\n",
            " [8.940e+02 1.200e+03 1.436e+03 1.060e+03 7.644e+04]\n",
            " [8.950e+02 1.299e+03 1.560e+03 7.700e+02 9.661e+04]\n",
            " [8.960e+02 1.174e+03 1.429e+03 1.110e+03 5.434e+04]]\n",
            "[ 530.  210.  720.  620.  450.  760. 1030. 1020.  680. 1130. 1090.  720.\n",
            " 1050. 1160.  770.  790. 1440.  670. 1030.  980.  370.  690.  950.  620.\n",
            "  840.  820. 1100.  980.  710.  650.  990.  990.  880.  620. 1020.  700.\n",
            "  610. 1080. 1010.   10. 1250.  600.  730.  780.  520.  870.  690.  910.\n",
            " 1260. 1040.  910. 1300.  320.  530.  980.  740. 1240. 1080. 1080.  460.\n",
            "  300.  530.  600.  860.  590.  920.  570.  290.  650.  710.  850.  530.\n",
            "  630.  700.  650.  720.  450. 1390.  960.  600.  620. 1020.  330. 1410.\n",
            " 1200.  280.  940.  850.  960.  420.  830.  600.  400.  760. 1470.  500.\n",
            " 1120. 1160.  820. 1140.  900.  760. 1170. 1080. 1000.  690.  810.  630.\n",
            "  650.  920. 1260.  800. 1330.  940. 1210.  660.  770.  460.  860.  780.\n",
            "  890.  900.  530.  790.  370.  610.  500.  750.  980.  530.  910.  620.\n",
            " 1170.  900.  980.  740.  810.  810.  300.  790.  800.  760.  530.  540.\n",
            "  620. 1010.  130.  730.  830. 1060.  770.   70.  670.  490.  670.  380.\n",
            " 1200.  350. 1090. 1230.  680.  580.  680.  340.  700.  580.  680.  630.\n",
            "  860.  490.  870.  990.  670.  490.  580.  700.  670.  390.  590. 1350.\n",
            "  840. 1100.  950.  950.  650.  230. 1060. 1180.  710.  480.  810. 1140.\n",
            " 1070.  790.  690.  610. 1240.  840.  460.  940.  590.  890.  770.  900.\n",
            " 1020.  910.  660.  480. 1080.  690.  510. 1030.  370.  640.  750.  370.\n",
            "  840.  840.  890.  620.  310.  550.  380. 1200.  800.  870. 1220. 1080.\n",
            "  540.  880.  120. 1410.  570.  940.  760. 1200.  670.  950.  480.  920.\n",
            " 1150.  750.  370.  610. 1150. 1070.  790. 1070.  730.  620.  530.  700.\n",
            "  680. 1060.  670.  400.  910.  760.  540.  350.  980.  860. 1020. 1120.\n",
            " 1020.  940.  970.  830.  920.  660.  780.  340. 1190.  490. 1090. 1040.\n",
            " 1210. 1030. 1170.  730.  720.  500. 1070.  800. 1020. 1070.  420.  510.\n",
            " 1210.  660.  360. 1210.  560.  360.  970.  480.  690.  710.  780.  630.\n",
            "  220. 1110.  720.  560.  600.  440.  520.  410.  590.  740.  610.  540.\n",
            " 1450.  620.  340.  970. 1080.  560.  630.  980.  930.  470.  680.  430.\n",
            "  830.  950.  870.  730.  760.  960.  860.  330.  630. 1280. 1440.  570.\n",
            "  540.  480.  390.  900.  290.  740.  690.  950.  930.  810.  760.  580.\n",
            "  770. 1530.  420. 1210.  850. 1340. 1160.  500.  820.  670.  460.  950.\n",
            "  980.  850.  580.  620.  650. 1130.  720.  940.  920.  660.  610. 1190.\n",
            " 1340.  820. 1130.  890.  810.  680.  320.  700.  940.  910.  870. 1260.\n",
            "  440.  980. 1200.  890. 1050.  610.  960.  860.  800. 1060.  600.  380.\n",
            " 1140.  730.  810. 1000. 1220.  360.  900.  750.  930. 1180.  870.  680.\n",
            " 1310. 1000. 1130.  990.  360.  720.  950.  840. 1120.  920. 1240.  840.\n",
            "  430.  810.  920.  880. 1350. 1000. 1220.  430.  520.  580.  460.  470.\n",
            "  680.  950.  840.  990.  520.  520. 1070.  990.  710.  430. 1290. 1080.\n",
            "  890. 1000. 1290.  860. 1010. 1160.  880.  670.  930.  990.  450.  690.\n",
            "  650. 1020.  880.  760.  690.  630.  370.  460.  770.  750.  660.  730.\n",
            "  670.  680.  960. 1230.  800.  450.  940. 1060.  560.  860.  730.  940.\n",
            "  920. 1050.  380.  930.  980.  580.  680.  850.  730.  570.  620.  890.\n",
            "  800.  920.  920.  760.  500.  680.  770.  460. 1070.  450.  310.  880.\n",
            "  370.  760.  950.  890.  800.  700. 1050.  330.  980. 1090. 1140.  820.\n",
            "  890.  650.  850.  360.  780.  590.  670.  340.  730. 1210. 1280.  710.\n",
            "  940.  670.  800.  790.  720. 1270.  930. 1490.  810.  600.  210.  460.\n",
            "  740. 1320.  760.  920.  920.  880. 1110. 1370.  410.  850.  720.  570.\n",
            "  690. 1220.  840.  560.  820.  700.  810. 1070.  540.  530.  580.  500.\n",
            " 1200.  980. 1000.  720. 1030.  420. 1070.  830.  940.  550. 1140.  750.\n",
            "  620.  660.  660.  410.  440.  630.  730.  220.  610.  720.  740.  740.\n",
            "  770.  590. 1330.  910.  330.  870.  790. 1270.  590. 1080.  830.  910.\n",
            "  830. 1380. 1180.  770.  680.  910.  540.  760.  760.  730.  430. 1000.\n",
            "  660.  930.  760.  370.  630.  360.  630.  670.  690.  830.  720.  520.\n",
            "  750. 1070.  590.  600.  380.  830.  940.  560. 1030.  730.  890. 1140.\n",
            "  590.  580.  310.  720.  490. 1010.  680. 1020. 1050.  740.  410.  770.\n",
            " 1400.  860.  840.  950.  940.  930. 1060.  560.  670.  540. 1010. 1340.\n",
            "  980.  630. 1110.  700.  580. 1050.  790.  600.  440. 1340. 1250.  990.\n",
            "  290.  350.  210.  810.  790.  780.  730. 1040.  760.  570.  620.  310.\n",
            "  310.  790.  490.  230.  900.  640.  840.  780.  480. 1040.  870.  530.\n",
            "  750.  840.  800.  660.  560.  910.  480.  700.  660. 1170. 1020.  580.\n",
            "  610.  590.  190.  490.  680.  670. 1070. 1110.  560. 1100.  970.  930.\n",
            " 1040. 1120.  910.  440.  530.  900.  740. 1020.  970.  890.  550.  520.\n",
            "  950.  650.  860.  320.  860.  900.  550.  770.  710.  840.  860.  870.\n",
            "  660.  930. 1020. 1190. 1140.  490. 1170.  480.  930.  890.  680.  740.\n",
            "  990.  680.  820.  440.  900. 1080.  830.  310.  730.  740.  960.  790.\n",
            "  700.  750.  590.  570.  660.  700. 1070.  660.  840.  850.  600.  710.\n",
            "  450.  740. 1240.  570.  580.  450.  790. 1040.  670.  370.  620. 1010.\n",
            "  550.  800.  610. 1090.  700.  830.  850. 1260. 1030. 1160.  880.  420.\n",
            "  770.  910. 1110.  510.  780.  790. 1090. 1270. 1260.  330.  540.  720.\n",
            "  670.  770.  860.  410.  900.  480.  540.  760.  280. 1120.  160.  620.\n",
            "  440.  870.  900.  710.  590.  910. 1320. 1000.  670.  610. 1050.  480.\n",
            "  770.  340.  580.  900.  700.  860.  540.  970. 1560.  790. 1020.  790.\n",
            "  880.  550.  550.  950.  810.  390.  860.  850.  660.  830.  640.  750.\n",
            " 1170.  790.  900.  370.  980. 1170.  800. 1100. 1070.  830. 1210.  540.\n",
            "  100.  820. 1210.  810.  780. 1160.  590. 1140.  690.  560. 1150.  140.\n",
            "  670.  650. 1220. 1080.  850. 1060.  770. 1110.]\n",
            "[ 66490.  39820.  54010.  53730.  46620.  45260.  72240.  37720.  46310.\n",
            "  44150.  71280.  57620.  60470.  59130.  66360.  78870.  77250.  38170.\n",
            "  63540.  40190.  43460.  68890.  52780.  50680.  41880.  70050.  25820.\n",
            "  60530.  78100.  84860.  80140.  14920.  60460.  74560.  72430.  45460.\n",
            "  41570.  62870.  55170.  45480.  49550.  48140.  67640.  39730.  35800.\n",
            "  49270.  66510.  62530.  59980.  76350.  81820.  57830.  70450.  67000.\n",
            "  64090.  48670.  66210.  83660.  70770.  53870.  71300.  46100.  49100.\n",
            "  65920.  58660.  69130.  49080.  72710.  33430.  42430.  56650.  33580.\n",
            "  67370.  71780.  84840.  82070.  26770.  65560.  38660.  65660.  40700.\n",
            "  88910.  57860.  42670.  90180.  51280.  97260.  39650.  45720.  42060.\n",
            "  65350.  67080.  54030.  56360.  77120.  50810.  60960.  61180.  63660.\n",
            "  41190.  78420.  65580.  89080.  94170.  50950.  65180.  69310.  79210.\n",
            "  23740.  36330.  51700.  62950.  56010.  45080.  46830.  64750.  80780.\n",
            "  31180.  56710.  49390.  66000.  32770.  46580.  79780.  35510.  80970.\n",
            "  61150.  49210.  79950.  68740.  57480.  72630.  50070.  40490.  51850.\n",
            "  42840.  60940.  62280.  76530.  85130.  48590.  73080.  48950.  48560.\n",
            "  59380.  51190.  58920.  50360.  38070.  49170.  39740.  63730.  85330.\n",
            "  27410.  37320.  71120.  72800.  34410.  42530.  54300.  50780.  45020.\n",
            "  69600.  80340.  37810.  46140.  99570.  38650.  49800.  69910.  44910.\n",
            "  78470.  47460.  33460.  44090.  42620.  69450.  73120.  48300.  58090.\n",
            "  74250.  40930.  70930.  64670.  77420.  32330.  41080.  42860.  68450.\n",
            "  39730.  83750.  69940.  67710.  67360.  52460.  88760.  67030.  78230.\n",
            "  62270.  49760.  73660.  72320.  68890.  34180.  58260.  38120.  49070.\n",
            "  61660.  37830.  52270.  52280.  70810.  71530.  77260.  75550.  33730.\n",
            "  66270.  55820.  68430.  73990.  62800.  33740.  63830.  24410.  70020.\n",
            "  92240.  68230.  81870.  73860.  77120.  72350.  49160.  45650.  52780.\n",
            "  90960.  64950.  47230.  83250.  51950.  66030.  68590.  47140.  69940.\n",
            "  65890.  89310.  58540.  78130.  92300.  56170.  46050.  43390.  61750.\n",
            "  21830.  39800.  54370.  62470.  82930.  63720.  79180.  38210.  25950.\n",
            "  56610.  73710.  70400.  50440.  66840.  50170.  60140.  37130.  42890.\n",
            "  26220.  50840.  25630.  60770.  69600.  41740.  50130.  21750.  80490.\n",
            "  34020.  60240.  39460.  56440.  46840.  64820.  52520.  45940.  38970.\n",
            "  58610.  30810.  47730.  64640.  44860.  55660.  57530.  75200.  37330.\n",
            "  35280.  70610.  49720.  68850.  50740.  77070.  74730.  76530.  68900.\n",
            "  44960.  41490.  74320.  73800.  56400.  71570.  43640.  35120.  58670.\n",
            "  75800.  76640.  31890.  61670.  75950.  41490.  66170.  37980.  62710.\n",
            "  60470.  35230.  48550.  56810.  41080.  51270.  57500.  81470.  49570.\n",
            "  45580.  44660.  76240.  43720.  46700.  84690.  85470.  80410.  46650.\n",
            "  81840.  63590.  50130.  45820.  86710.  49980.  82940.  40350.  93950.\n",
            "  47310.  21300.  62180.  61460.  54360.  72050.  48090.  27310.  57160.\n",
            "  34190.  35600.  54670.  76730.  63540.  36690.  87370.  59800.  48030.\n",
            "  96650.  65500.  55530.  21650.  31940.  84690.  68390.  75490.  39200.\n",
            "  85670.  60530.  78090.  50720.  23090.  91360.  48120.  75620.  39420.\n",
            "  51130.  33890.  87170.  38600.  60980.  79410.  82350.  36740.  27720.\n",
            "  32260.  53270.  51480.  59970.  83600.  63020.  50920.  56450.  89540.\n",
            "  46030.  75110.  74520. 102310.  53400.  59760.  49540.  51560.  49510.\n",
            "  58610.  68260.  65310.  52090.  43860.  74170.  58380.  91200.  90940.\n",
            "  49330.  53500.  54590.  57450.  33240.  80790.  61000.  47620.  72090.\n",
            " 102920.  61970.  61040.  52060.  69570.  66020.  40000.  79500.  76300.\n",
            "  69030.  57140.  41710.  71480.  33010.  74570.  49590.  73170.  79220.\n",
            "  75880.  67610.  69090.  35220.  53940.  56660.  67520.  38620.  38890.\n",
            "  79270.  42880.  44240.  43190.  74550.  57090.  56480.  87410.  81370.\n",
            "  97360.  77960.  71240.  58940.  78950.  36380.  45160.  69050.  56830.\n",
            "  93530.  46920.  55990.  40840.  64990.  53550.  51320.  36560.  66050.\n",
            "  52400.  27970.  67100.  43710.  38600.  53890.  52610.  43130.  40300.\n",
            "  49750.  43840.  56820.  36350.  50820.  83720.  46970.  78020.  45080.\n",
            "  55160.  72020.  64010.  27840.  58070.  51760.  66050.  65750.  65820.\n",
            "  46760.  50940.  56440.  32610.  62770.  63600.  45840.  38280.  50960.\n",
            "  39480.  69610.  47800.  44890.  67420.  78870.  70310.  38530.  77570.\n",
            "  59920.  54450.  50250.  30790.  35420.  43470.  61000.  64780.  39030.\n",
            "  65900.  46050.  59070.  44670.  58390.  80370.  53230.  72000.  84040.\n",
            "  52540.  63510.  42240.  39580.  54610.  87330.  88410.  89760. 101780.\n",
            "  70290.  88210.  87160.  41540.  49170.  63950.  70810.  49590.  67290.\n",
            "  51240.  48540.  72410.  54370.  94460.  85160.  52130.  54650.  69320.\n",
            "  51480.  50060.  62180.  79780.  42860.  54410.  69390.  42810.  30840.\n",
            "  56260.  76470.  35680.  90070.  33120.  54060.  75120.  41600.  20270.\n",
            "  60060.  82270.  29170.  68420.  59130.  74330.  77080.  76250.  59540.\n",
            "  54690.  84360.  51420.  65120.  49380.  37830.  35980.  69190.  50590.\n",
            "  60800.  31180.  77790.  47570.  69130.  75970.  68350.  41680.  86560.\n",
            "  81390.  50730.  71290.  70110.  61590.  69370.  67110.  82020.  62050.\n",
            "  61730.  58660.  53370.  39700.  53750.  44730.  49350.  43340.  78090.\n",
            "  54950.  75530.  57330.  87930.  56850.  78430.  63660.  62960.  81870.\n",
            "  54820. 116320.  57200.  84360.  36530.  81260.  82350.  80830.  30610.\n",
            "  51310.  72940.  52450.  66070.  43190.  40730.  78530.  94690.  44400.\n",
            "  73800.  37390.  64120.  66160.  22310.  62380.  63850.  36210.  54590.\n",
            "  69610.  65390.  78130.  55710.  69210.  59940.  72550.  44260.  56910.\n",
            "  82390.  54590.  69990.  72740.  35360.  94370.  43520.  36000.  99480.\n",
            "  83220.  52940.  93360.  73590.  53840.  47350.  65080.  62050.  30020.\n",
            "  49510.  64320.  35590.  63050.  65300.  69560.  41910.  28330.  55980.\n",
            "  61080.  51380.  84410.  60680.  64690.  45780.  41800.  53230.  36160.\n",
            "  40450.  57910.  36280.  39190.  62380.  21470.  34610.  88120.  59190.\n",
            "  36290.  53760.  66300.  93000.  65660.  81930.  60060.  59530.  46380.\n",
            "  76200.  56860.  86620.  49730.  88370.  49160.  77740.  38560.  51990.\n",
            "  39970.  46040.  49500.  76670.  75800.  81720.  58440.  85720.  70940.\n",
            "  62420.  56880. 101820.  86890.  47300.  31270.  65410.  54200.  67390.\n",
            "  54530.  79760.  78060.  74080.  52990.  70580.  34310.  74160.  59190.\n",
            "  43370.  17670.  56710.  59820.  36190.  60440.  75300.  74080.  60440.\n",
            "  80720.  47060.  86830.  56790.  67090.  44370.  82970.  56230.  53760.\n",
            "  55390.  73500.  41050.  67320.  65890.  56380.  85670.  70830.  48180.\n",
            "  51910.  44320.  58940.  73610.  54060.  85000.  49030.  63300.  84300.\n",
            "  81390.  95900.  71830.  79310.  87890.  48610.  73160.  36280.  49720.\n",
            "  44400.  47590.  51460.  57750.  66000.  45950.  53900.  37920.  63100.\n",
            "  36770.  43910.  66390.  59160.  38510.  46220.  41500.  58160.  38530.\n",
            "  55880.  70940.  53940.  43030.  59820.  55500.  49990.  42980.  65970.\n",
            "  59290.  63020.  73810.  70230.  59950.  78100.  16370.  92640.  63540.\n",
            "  87220.  41990.  79410.  54380.  58600.  48950.  40670.  52340.  39140.\n",
            "  41090.  25600. 100900.  77080. 105150.  80580.  46230.  98260.  75930.\n",
            "  52050.  87000.  60270.  88270.  57820.  61210.  76420.  70980.  76740.\n",
            "  47920.  52160.  32740.  72270.  77430.  92370.  34880.  46580.  70620.\n",
            "  66390.  82080.  76440.  96610.  54340.]\n"
          ]
        }
      ]
    },
    {
      "cell_type": "code",
      "metadata": {
        "id": "Dh-iI6OTqU6-"
      },
      "source": [
        "def graficarDatos(x, y):\n",
        "  fig = pyplot.figure()\n",
        "  pyplot.plot(x, y, 'ro')\n",
        "  pyplot.xlabel('Recuento diario de clientes')\n",
        "  pyplot.ylabel('Ventas en Tienda')"
      ],
      "execution_count": 50,
      "outputs": []
    },
    {
      "cell_type": "code",
      "metadata": {
        "colab": {
          "base_uri": "https://localhost:8080/",
          "height": 281
        },
        "id": "XFuj2xYOq8Rk",
        "outputId": "6fb6f252-94f7-4e3f-ca83-7ceb751311be"
      },
      "source": [
        "graficarDatos(X, y)"
      ],
      "execution_count": 51,
      "outputs": [
        {
          "output_type": "display_data",
          "data": {
            "text/plain": [
              "<Figure size 432x288 with 1 Axes>"
            ],
            "image/png": "[encoded data removed]"
          },
          "metadata": {
            "needs_background": "light"
          }
        }
      ]
    },
    {
      "cell_type": "code",
      "metadata": {
        "id": "jkVjRskgrJd2"
      },
      "source": [
        "# No olvidarse agregar unos a la matriz de x\n",
        "X = np.stack([np.ones(m), X], axis=1)"
      ],
      "execution_count": 52,
      "outputs": []
    },
    {
      "cell_type": "code",
      "source": [
        "X"
      ],
      "metadata": {
        "colab": {
          "base_uri": "https://localhost:8080/"
        },
        "id": "TTJCbtcoOw-c",
        "outputId": "351d1203-28b5-4a3f-b7a4-e4e3b8d4aab6"
      },
      "execution_count": 53,
      "outputs": [
        {
          "output_type": "execute_result",
          "data": {
            "text/plain": [
              "array([[1.00e+00, 5.30e+02],\n",
              "       [1.00e+00, 2.10e+02],\n",
              "       [1.00e+00, 7.20e+02],\n",
              "       ...,\n",
              "       [1.00e+00, 1.06e+03],\n",
              "       [1.00e+00, 7.70e+02],\n",
              "       [1.00e+00, 1.11e+03]])"
            ]
          },
          "metadata": {},
          "execution_count": 53
        }
      ]
    },
    {
      "cell_type": "code",
      "metadata": {
        "id": "iDWldqUVwYwK"
      },
      "source": [
        "def calcularCosto(X, y, theta):\n",
        "  m = y.size\n",
        "  J = 0\n",
        "  h = np.dot(X, theta)\n",
        "  # print(h)\n",
        "  J = (1/(2 * m)) * np.sum(np.square(np.dot(X, theta) - y))\n",
        "  return J"
      ],
      "execution_count": 54,
      "outputs": []
    },
    {
      "cell_type": "code",
      "metadata": {
        "colab": {
          "base_uri": "https://localhost:8080/"
        },
        "id": "HqtBZGFex0uR",
        "outputId": "91c782c8-b9a8-4438-f05f-fcdf74f0ad42"
      },
      "source": [
        "theta=np.array([0.1, 2.8])\n",
        "JJ = calcularCosto(X, y, theta)\n",
        "print(f\"con theta:{ theta } se obtiene un costo de: {JJ}\")"
      ],
      "execution_count": 55,
      "outputs": [
        {
          "output_type": "stream",
          "name": "stdout",
          "text": [
            "con theta:[0.1 2.8] se obtiene un costo de: 1780789936.059241\n"
          ]
        }
      ]
    },
    {
      "cell_type": "code",
      "metadata": {
        "id": "ymTwiKnBzVk1"
      },
      "source": [
        "def calcularDescensoGradiente(X, y, theta, alpha, numero_iteraciones):\n",
        "  m = y.shape[0]\n",
        "  theta = theta.copy()\n",
        "  J_historico = []\n",
        "\n",
        "  for i in range(numero_iteraciones):\n",
        "    theta = theta - (alpha / m) * (np.dot(X, theta) - y).dot(X)\n",
        "    J_historico.append(calcularCosto(X, y, theta))\n",
        "\n",
        "  return theta, J_historico"
      ],
      "execution_count": 56,
      "outputs": []
    },
    {
      "cell_type": "code",
      "metadata": {
        "colab": {
          "base_uri": "https://localhost:8080/"
        },
        "id": "XVLJEATe0fiS",
        "outputId": "3eb81da5-0fe0-4056-d3d3-1dd552b3fa52"
      },
      "source": [
        "theta = np.zeros(2)\n",
        "\n",
        "num_ite = 80\n",
        "alpha = 0.003\n",
        "\n",
        "theta, J_historico = calcularDescensoGradiente(X, y, theta, alpha, num_ite)\n",
        "print(f\"los valores de theta calculados son: { theta }\")\n",
        "print(f\"con un costo de: { J_historico[-1]} \")"
      ],
      "execution_count": 57,
      "outputs": [
        {
          "output_type": "stream",
          "name": "stdout",
          "text": [
            "los valores de theta calculados son: [-1.21421185e+264 -1.06342846e+267]\n",
            "con un costo de: inf \n"
          ]
        },
        {
          "output_type": "stream",
          "name": "stderr",
          "text": [
            "/usr/local/lib/python3.7/dist-packages/ipykernel_launcher.py:6: RuntimeWarning: overflow encountered in square\n",
            "  \n",
            "/usr/local/lib/python3.7/dist-packages/numpy/core/fromnumeric.py:86: RuntimeWarning: overflow encountered in reduce\n",
            "  return ufunc.reduce(obj, axis, dtype, out, **passkwargs)\n"
          ]
        }
      ]
    },
    {
      "cell_type": "code",
      "metadata": {
        "colab": {
          "base_uri": "https://localhost:8080/",
          "height": 308
        },
        "id": "ph6b7zgh1aD3",
        "outputId": "a59e527d-bfda-431e-dd70-df55416b8a28"
      },
      "source": [
        "graficarDatos(X[:, 1], y)\n",
        "pyplot.plot(X[:,1], np.dot(X, theta), '-')\n",
        "pyplot.legend(['Datos de entrenamiento', 'regresion lineal'])"
      ],
      "execution_count": 58,
      "outputs": [
        {
          "output_type": "execute_result",
          "data": {
            "text/plain": [
              "<matplotlib.legend.Legend at 0x7f459e29e810>"
            ]
          },
          "metadata": {},
          "execution_count": 58
        },
        {
          "output_type": "display_data",
          "data": {
            "text/plain": [
              "<Figure size 432x288 with 1 Axes>"
            ],
            "image/png": "[encoded data removed]"
          },
          "metadata": {
            "needs_background": "light"
          }
        }
      ]
    },
    {
      "cell_type": "code",
      "metadata": {
        "colab": {
          "base_uri": "https://localhost:8080/"
        },
        "id": "OJxXluBO2T5q",
        "outputId": "58440772-a0aa-45d5-b8c1-1e2980d4f7a0"
      },
      "source": [
        "y_pred = np.dot([1, 18.3], theta)\n",
        "print(y_pred)"
      ],
      "execution_count": 59,
      "outputs": [
        {
          "output_type": "stream",
          "name": "stdout",
          "text": [
            "-1.9461954989298886e+268\n"
          ]
        }
      ]
    }
  ]
}