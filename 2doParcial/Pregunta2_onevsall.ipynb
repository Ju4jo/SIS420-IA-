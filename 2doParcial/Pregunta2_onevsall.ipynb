{
  "nbformat": 4,
  "nbformat_minor": 0,
  "metadata": {
    "colab": {
      "name": "Pregunta2_onevsall.ipynb",
      "provenance": [],
      "collapsed_sections": []
    },
    "kernelspec": {
      "name": "python3",
      "display_name": "Python 3"
    },
    "language_info": {
      "name": "python"
    }
  },
  "cells": [
    {
      "cell_type": "code",
      "metadata": {
        "id": "_1c4SKnuTSb-"
      },
      "source": [
        "# utilizado para la manipulación de directorios y rutas\n",
        "import os\n",
        "\n",
        "# Cálculo científico y vectorial para python\n",
        "import numpy as np\n",
        "\n",
        "# Libreria para graficos\n",
        "from matplotlib import pyplot\n",
        "\n",
        "# Modulo de optimizacion en scipy\n",
        "from scipy import optimize\n",
        "\n",
        "# le dice a matplotlib que incruste gráficos en el cuaderno\n",
        "%matplotlib inline"
      ],
      "execution_count": 1,
      "outputs": []
    },
    {
      "cell_type": "code",
      "metadata": {
        "colab": {
          "base_uri": "https://localhost:8080/"
        },
        "id": "05ykbXNIUVcY",
        "outputId": "a18544ea-fa79-4ed4-ac71-1f56ddaca175"
      },
      "source": [
        "data = np.loadtxt(os.path.join('/content/horse-colic2.csv'), delimiter=\";\",skiprows=1)\n",
        "# print(data)\n",
        "Xo, y = data[:, :11], data[:, 12]\n",
        "#Xo, y = data[:, :5], data[:, 5]\n",
        "print(Xo.shape)\n",
        "print(y.shape)\n",
        "#print(Xo)\n",
        "print(y)"
      ],
      "execution_count": 2,
      "outputs": [
        {
          "output_type": "stream",
          "name": "stdout",
          "text": [
            "(299, 11)\n",
            "(299,)\n",
            "[4. 4. 4. 4. 4. 4. 4. 4. 4. 4. 4. 4. 4. 4. 4. 4. 4. 4. 4. 4. 4. 4. 4. 4.\n",
            " 4. 4. 4. 4. 4. 4. 4. 4. 4. 4. 4. 4. 4. 4. 4. 4. 4. 4. 4. 4. 4. 4. 4. 4.\n",
            " 4. 4. 4. 4. 4. 4. 4. 4. 4. 4. 4. 4. 4. 4. 4. 4. 4. 4. 4. 4. 4. 4. 4. 4.\n",
            " 4. 4. 4. 4. 4. 4. 4. 4. 4. 4. 4. 4. 4. 4. 4. 4. 4. 4. 4. 4. 4. 4. 4. 4.\n",
            " 4. 4. 4. 4. 4. 4. 4. 4. 4. 4. 4. 4. 4. 4. 4. 4. 4. 4. 4. 4. 4. 4. 4. 4.\n",
            " 4. 4. 4. 4. 4. 4. 4. 4. 4. 4. 4. 4. 4. 4. 4. 4. 4. 4. 4. 4. 4. 4. 4. 4.\n",
            " 4. 4. 4. 4. 4. 4. 4. 4. 4. 4. 4. 4. 4. 4. 4. 4. 4. 4. 4. 4. 4. 4. 4. 4.\n",
            " 4. 4. 4. 4. 4. 4. 4. 4. 4. 4. 4. 4. 4. 4. 4. 4. 4. 4. 4. 4. 4. 4. 4. 4.\n",
            " 4. 4. 4. 4. 4. 4. 4. 4. 4. 4. 4. 4. 4. 4. 4. 4. 4. 4. 4. 4. 4. 4. 4. 4.\n",
            " 4. 4. 4. 4. 4. 4. 4. 4. 4. 4. 4. 4. 4. 4. 4. 4. 4. 4. 4. 4. 4. 4. 4. 4.\n",
            " 4. 4. 4. 4. 4. 4. 4. 4. 4. 4. 4. 4. 4. 4. 4. 4. 4. 4. 4. 4. 4. 4. 4. 4.\n",
            " 4. 4. 4. 4. 4. 4. 4. 4. 4. 4. 4. 4. 4. 4. 4. 4. 4. 4. 4. 4. 4. 4. 4. 4.\n",
            " 4. 4. 4. 4. 4. 4. 4. 4. 4. 4. 4.]\n"
          ]
        }
      ]
    },
    {
      "cell_type": "code",
      "metadata": {
        "colab": {
          "base_uri": "https://localhost:8080/"
        },
        "id": "cHLPzVMil7r6",
        "outputId": "bfca5890-396a-4916-a884-41d5b3e317d6"
      },
      "source": [
        "# data.shape\n",
        "Xo.shape[1]"
      ],
      "execution_count": 3,
      "outputs": [
        {
          "output_type": "execute_result",
          "data": {
            "text/plain": [
              "11"
            ]
          },
          "metadata": {},
          "execution_count": 3
        }
      ]
    },
    {
      "cell_type": "code",
      "source": [
        "def  Normalizar(Xo):\n",
        "    X = Xo.copy()\n",
        "    mu = np.zeros(Xo.shape[1])\n",
        "    sigma = np.zeros(Xo.shape[1])\n",
        "\n",
        "    mu = np.mean(Xo, axis = 0)\n",
        "    sigma = np.std(Xo, axis = 0)\n",
        "    X = (Xo - mu) / sigma\n",
        "    \n",
        "    return X, mu, sigma"
      ],
      "metadata": {
        "id": "6m1b6j53v4Mp"
      },
      "execution_count": 4,
      "outputs": []
    },
    {
      "cell_type": "code",
      "source": [
        "X, mu, sigma = Normalizar(Xo)\n",
        "print(Xo)\n",
        "print('Media calculada:', mu)\n",
        "print('Desviación estandar calculada:', sigma)\n",
        "print(X)"
      ],
      "metadata": {
        "colab": {
          "base_uri": "https://localhost:8080/"
        },
        "id": "KKFMuZPYwSu0",
        "outputId": "f1f5f0f6-9b21-45b4-c12f-5f38c60ba351"
      },
      "execution_count": 5,
      "outputs": [
        {
          "output_type": "stream",
          "name": "stdout",
          "text": [
            "[[2.00000e+00 1.00000e+00 5.30101e+05 ... 1.00000e+00 2.00000e+00\n",
            "  5.00000e+00]\n",
            " [2.00000e+00 1.00000e+00 5.30101e+05 ... 1.00000e+00 2.00000e+00\n",
            "  5.00000e+00]\n",
            " [2.00000e+00 1.00000e+00 5.30101e+05 ... 1.00000e+00 2.00000e+00\n",
            "  5.00000e+00]\n",
            " ...\n",
            " [2.00000e+00 1.00000e+00 5.30101e+05 ... 1.00000e+00 2.00000e+00\n",
            "  5.00000e+00]\n",
            " [2.00000e+00 1.00000e+00 5.30101e+05 ... 1.00000e+00 2.00000e+00\n",
            "  5.00000e+00]\n",
            " [2.00000e+00 1.00000e+00 5.30101e+05 ... 1.00000e+00 2.00000e+00\n",
            "  5.00000e+00]]\n",
            "Media calculada: [2.00000e+00 1.00000e+00 5.30101e+05 3.85000e+01 6.60000e+01 2.80000e+01\n",
            " 3.00000e+00 3.00000e+00 1.00000e+00 2.00000e+00 5.00000e+00]\n",
            "Desviación estandar calculada: [0. 0. 0. 0. 0. 0. 0. 0. 0. 0. 0.]\n",
            "[[nan nan nan ... nan nan nan]\n",
            " [nan nan nan ... nan nan nan]\n",
            " [nan nan nan ... nan nan nan]\n",
            " ...\n",
            " [nan nan nan ... nan nan nan]\n",
            " [nan nan nan ... nan nan nan]\n",
            " [nan nan nan ... nan nan nan]]\n"
          ]
        },
        {
          "output_type": "stream",
          "name": "stderr",
          "text": [
            "/usr/local/lib/python3.7/dist-packages/ipykernel_launcher.py:8: RuntimeWarning: invalid value encountered in true_divide\n",
            "  \n"
          ]
        }
      ]
    },
    {
      "cell_type": "code",
      "metadata": {
        "id": "6_iuCOVYT2ee",
        "colab": {
          "base_uri": "https://localhost:8080/"
        },
        "outputId": "a20ee0ba-5316-4efe-f0b8-e9d8b6f15806"
      },
      "source": [
        "input_layer_size  = X.shape[1]\n",
        "print(input_layer_size)\n",
        "num_labels =6\n",
        "m = y.size"
      ],
      "execution_count": 6,
      "outputs": [
        {
          "output_type": "stream",
          "name": "stdout",
          "text": [
            "11\n"
          ]
        }
      ]
    },
    {
      "cell_type": "code",
      "metadata": {
        "id": "_cAmLC5NZ64W"
      },
      "source": [
        "def calcularSigmoide(z):\n",
        "    # Calcula la sigmoide de z.\n",
        "\n",
        "    return 1.0 / (1.0 + np.exp(-z))"
      ],
      "execution_count": 7,
      "outputs": []
    },
    {
      "cell_type": "code",
      "metadata": {
        "id": "KXRcTi9Ll_w6"
      },
      "source": [
        "def calcularCosto(theta, X, y, lambda_):\n",
        "    # Inicializa algunos valores utiles\n",
        "    #print(X)\n",
        "    #m = y.size\n",
        "    #y=y[:1585]\n",
        "    #m=y[:1585].size\n",
        "    y=y[:1280]\n",
        "    m=y[:1280].size\n",
        "    #print(m)\n",
        "    # convierte las etiquetas a valores enteros si son boleanos\n",
        "    if y.dtype == bool:\n",
        "        y = y.astype(int)\n",
        "    \n",
        "    J = 0\n",
        "    grad = np.zeros(theta.shape)\n",
        "    \n",
        "    h = calcularSigmoide(X.dot(theta.T))\n",
        "    \n",
        "    temp = theta\n",
        "    temp[0] = 0\n",
        "    \n",
        "    J = (1 / m) * np.sum(-y.dot(np.log(h)) - (1 - y).dot(np.log(1 - h))) + (lambda_ / (2 * m)) * np.sum(np.square(temp))\n",
        "    \n",
        "    grad = (1 / m) * (h - y).dot(X)\n",
        "    # Se aplica regularizacion en la siguiente linea \n",
        "    grad = grad + (lambda_ / m) * temp\n",
        "\n",
        "    return J, grad"
      ],
      "execution_count": 8,
      "outputs": []
    },
    {
      "cell_type": "code",
      "metadata": {
        "colab": {
          "base_uri": "https://localhost:8080/"
        },
        "id": "oYmrjOcWfp4O",
        "outputId": "53868764-db8b-4507-c709-a9912d2ea605"
      },
      "source": [
        "m=y[:1280].size\n",
        "print(m)"
      ],
      "execution_count": null,
      "outputs": [
        {
          "output_type": "stream",
          "name": "stdout",
          "text": [
            "299\n"
          ]
        }
      ]
    },
    {
      "cell_type": "code",
      "metadata": {
        "id": "1AmmPf2RjvfZ"
      },
      "source": [
        "def oneVsAll(X, y, num_labels, lambda_):\n",
        "\n",
        "   # m, n = X.shape\n",
        "    #m=X[:1585].shape[0] #781= 70% de los datos\n",
        "    m=X[:1280].shape[0]\n",
        "    n=X.shape[1]\n",
        "    \n",
        "    all_theta = np.zeros((num_labels, n + 1))\n",
        "\n",
        "    # Agrega unos a la matriz X\n",
        "    #X = np.concatenate([np.ones((m, 1)), X[:1585]], axis=1)\n",
        "    X = np.concatenate([np.ones((m, 1)), X[:1280]], axis=1)\n",
        "    #X = np.concatenate([np.ones((m, 1)), X], axis=1)\n",
        "\n",
        "    for c in np.arange(num_labels):\n",
        "        initial_theta = np.zeros(n + 1)\n",
        "        options = {'maxiter': 50}\n",
        "        res = optimize.minimize(calcularCosto, \n",
        "                                initial_theta, \n",
        "                                (X[:1280], (y == (c + 1)), lambda_), \n",
        "                                jac=True, \n",
        "                                method='BFGS',\n",
        "                                options=options) \n",
        "        \n",
        "        all_theta[c] = res.x\n",
        "    return all_theta"
      ],
      "execution_count": 9,
      "outputs": []
    },
    {
      "cell_type": "code",
      "metadata": {
        "colab": {
          "base_uri": "https://localhost:8080/"
        },
        "id": "666AdABLZm4F",
        "outputId": "6c15bae5-acde-4bed-cdd4-e7ac249b4610"
      },
      "source": [
        "print(X[:1280].shape)"
      ],
      "execution_count": 10,
      "outputs": [
        {
          "output_type": "stream",
          "name": "stdout",
          "text": [
            "(299, 11)\n"
          ]
        }
      ]
    },
    {
      "cell_type": "code",
      "source": [
        "lambda_ = 0.01\n",
        "all_theta = oneVsAll(X, y, num_labels, lambda_)"
      ],
      "metadata": {
        "id": "0Kmcb8oWtF_z"
      },
      "execution_count": 11,
      "outputs": []
    },
    {
      "cell_type": "code",
      "metadata": {
        "id": "tkebj8THl62F"
      },
      "source": [
        "def predictOneVsAll(all_theta, X):\n",
        "    m = X.shape[0];\n",
        "    num_labels = all_theta.shape[0]\n",
        "\n",
        "    p = np.zeros(m)\n",
        "\n",
        "    # Add ones to the X data matrix\n",
        "    X = np.concatenate([np.ones((m, 1)), X], axis=1)\n",
        "    p = np.argmax(calcularSigmoide(X.dot(all_theta.T)), axis = 1)\n",
        "\n",
        "    return p + 1"
      ],
      "execution_count": 12,
      "outputs": []
    },
    {
      "cell_type": "code",
      "metadata": {
        "colab": {
          "base_uri": "https://localhost:8080/",
          "height": 321
        },
        "id": "_RXRxD8ym7rt",
        "outputId": "534ff228-5b89-48a9-ff01-db74390aff9b"
      },
      "source": [
        "pred = predictOneVsAll(all_theta, X)\n",
        "print('Precision del conjuto de entrenamiento: {:.2f}%'.format(np.mean(pred == y) * 100))\n",
        "XPrueba = X[1280:, :].copy()\n",
        "yPrueba = y[1280:].copy()\n",
        "\n",
        "print(XPrueba.shape)\n",
        "XPrueba = np.concatenate((np.ones((300, 1)), XPrueba), axis=1)\n",
        "#print(XPrueba)\n",
        "p = np.argmax(calcularSigmoide(XPrueba.dot(all_theta.T)), axis = 1)\n",
        "print(p + 1)"
      ],
      "execution_count": 14,
      "outputs": [
        {
          "output_type": "stream",
          "name": "stdout",
          "text": [
            "Precision del conjuto de entrenamiento: 0.00%\n",
            "(0, 11)\n"
          ]
        },
        {
          "output_type": "error",
          "ename": "ValueError",
          "evalue": "ignored",
          "traceback": [
            "\u001b[0;31m---------------------------------------------------------------------------\u001b[0m",
            "\u001b[0;31mValueError\u001b[0m                                Traceback (most recent call last)",
            "\u001b[0;32m<ipython-input-14-ebc08c305d98>\u001b[0m in \u001b[0;36m<module>\u001b[0;34m()\u001b[0m\n\u001b[1;32m      5\u001b[0m \u001b[0;34m\u001b[0m\u001b[0m\n\u001b[1;32m      6\u001b[0m \u001b[0mprint\u001b[0m\u001b[0;34m(\u001b[0m\u001b[0mXPrueba\u001b[0m\u001b[0;34m.\u001b[0m\u001b[0mshape\u001b[0m\u001b[0;34m)\u001b[0m\u001b[0;34m\u001b[0m\u001b[0;34m\u001b[0m\u001b[0m\n\u001b[0;32m----> 7\u001b[0;31m \u001b[0mXPrueba\u001b[0m \u001b[0;34m=\u001b[0m \u001b[0mnp\u001b[0m\u001b[0;34m.\u001b[0m\u001b[0mconcatenate\u001b[0m\u001b[0;34m(\u001b[0m\u001b[0;34m(\u001b[0m\u001b[0mnp\u001b[0m\u001b[0;34m.\u001b[0m\u001b[0mones\u001b[0m\u001b[0;34m(\u001b[0m\u001b[0;34m(\u001b[0m\u001b[0;36m300\u001b[0m\u001b[0;34m,\u001b[0m \u001b[0;36m1\u001b[0m\u001b[0;34m)\u001b[0m\u001b[0;34m)\u001b[0m\u001b[0;34m,\u001b[0m \u001b[0mXPrueba\u001b[0m\u001b[0;34m)\u001b[0m\u001b[0;34m,\u001b[0m \u001b[0maxis\u001b[0m\u001b[0;34m=\u001b[0m\u001b[0;36m1\u001b[0m\u001b[0;34m)\u001b[0m\u001b[0;34m\u001b[0m\u001b[0;34m\u001b[0m\u001b[0m\n\u001b[0m\u001b[1;32m      8\u001b[0m \u001b[0;31m#print(XPrueba)\u001b[0m\u001b[0;34m\u001b[0m\u001b[0;34m\u001b[0m\u001b[0;34m\u001b[0m\u001b[0m\n\u001b[1;32m      9\u001b[0m \u001b[0mp\u001b[0m \u001b[0;34m=\u001b[0m \u001b[0mnp\u001b[0m\u001b[0;34m.\u001b[0m\u001b[0margmax\u001b[0m\u001b[0;34m(\u001b[0m\u001b[0mcalcularSigmoide\u001b[0m\u001b[0;34m(\u001b[0m\u001b[0mXPrueba\u001b[0m\u001b[0;34m.\u001b[0m\u001b[0mdot\u001b[0m\u001b[0;34m(\u001b[0m\u001b[0mall_theta\u001b[0m\u001b[0;34m.\u001b[0m\u001b[0mT\u001b[0m\u001b[0;34m)\u001b[0m\u001b[0;34m)\u001b[0m\u001b[0;34m,\u001b[0m \u001b[0maxis\u001b[0m \u001b[0;34m=\u001b[0m \u001b[0;36m1\u001b[0m\u001b[0;34m)\u001b[0m\u001b[0;34m\u001b[0m\u001b[0;34m\u001b[0m\u001b[0m\n",
            "\u001b[0;32m<__array_function__ internals>\u001b[0m in \u001b[0;36mconcatenate\u001b[0;34m(*args, **kwargs)\u001b[0m\n",
            "\u001b[0;31mValueError\u001b[0m: all the input array dimensions for the concatenation axis must match exactly, but along dimension 0, the array at index 0 has size 300 and the array at index 1 has size 0"
          ]
        }
      ]
    }
  ]
}